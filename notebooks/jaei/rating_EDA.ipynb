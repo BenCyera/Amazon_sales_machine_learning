{
 "cells": [
  {
   "cell_type": "code",
   "execution_count": 1,
   "id": "43bd270b-be63-43ba-987c-a56b3a8aedaf",
   "metadata": {},
   "outputs": [],
   "source": [
    "import numpy as np\n",
    "import pandas as pd\n",
    "import matplotlib.pyplot as plt\n",
    "import seaborn as sns\n",
    "import plotly.express as px\n",
    "import plotly.graph_objects as go\n",
    "import warnings\n",
    "from plotly.subplots import make_subplots\n",
    "from scipy.stats import chi2_contingency\n",
    "from itertools import combinations\n",
    "%matplotlib inline"
   ]
  },
  {
   "cell_type": "code",
   "execution_count": 2,
   "id": "cd7b445b-72f8-4997-9f37-86a8a2818dd6",
   "metadata": {},
   "outputs": [],
   "source": [
    "warnings.filterwarnings(\"ignore\", message=\"use_inf_as_na option is deprecated\")"
   ]
  },
  {
   "cell_type": "code",
   "execution_count": 10,
   "id": "baec7f12-31b1-4c4f-a8d9-dfb5e56ad82a",
   "metadata": {},
   "outputs": [
    {
     "data": {
      "text/html": [
       "<div>\n",
       "<style scoped>\n",
       "    .dataframe tbody tr th:only-of-type {\n",
       "        vertical-align: middle;\n",
       "    }\n",
       "\n",
       "    .dataframe tbody tr th {\n",
       "        vertical-align: top;\n",
       "    }\n",
       "\n",
       "    .dataframe thead th {\n",
       "        text-align: right;\n",
       "    }\n",
       "</style>\n",
       "<table border=\"1\" class=\"dataframe\">\n",
       "  <thead>\n",
       "    <tr style=\"text-align: right;\">\n",
       "      <th></th>\n",
       "      <th>product_id</th>\n",
       "      <th>product_name</th>\n",
       "      <th>category</th>\n",
       "      <th>discounted_price</th>\n",
       "      <th>actual_price</th>\n",
       "      <th>discount_percentage</th>\n",
       "      <th>rating</th>\n",
       "      <th>rating_count</th>\n",
       "      <th>about_product</th>\n",
       "      <th>user_id</th>\n",
       "      <th>user_name</th>\n",
       "      <th>review_id</th>\n",
       "      <th>review_title</th>\n",
       "      <th>review_content</th>\n",
       "      <th>img_link</th>\n",
       "      <th>product_link</th>\n",
       "    </tr>\n",
       "  </thead>\n",
       "  <tbody>\n",
       "    <tr>\n",
       "      <th>0</th>\n",
       "      <td>B07JW9H4J1</td>\n",
       "      <td>Wayona Nylon Braided USB to Lightning Fast Cha...</td>\n",
       "      <td>Computers&amp;Accessories|Accessories&amp;Peripherals|...</td>\n",
       "      <td>₹399</td>\n",
       "      <td>₹1,099</td>\n",
       "      <td>64%</td>\n",
       "      <td>4.2</td>\n",
       "      <td>24,269</td>\n",
       "      <td>High Compatibility : Compatible With iPhone 12...</td>\n",
       "      <td>AG3D6O4STAQKAY2UVGEUV46KN35Q,AHMY5CWJMMK5BJRBB...</td>\n",
       "      <td>Manav,Adarsh gupta,Sundeep,S.Sayeed Ahmed,jasp...</td>\n",
       "      <td>R3HXWT0LRP0NMF,R2AJM3LFTLZHFO,R6AQJGUP6P86,R1K...</td>\n",
       "      <td>Satisfied,Charging is really fast,Value for mo...</td>\n",
       "      <td>Looks durable Charging is fine tooNo complains...</td>\n",
       "      <td>https://m.media-amazon.com/images/W/WEBP_40237...</td>\n",
       "      <td>https://www.amazon.in/Wayona-Braided-WN3LG1-Sy...</td>\n",
       "    </tr>\n",
       "    <tr>\n",
       "      <th>1</th>\n",
       "      <td>B098NS6PVG</td>\n",
       "      <td>Ambrane Unbreakable 60W / 3A Fast Charging 1.5...</td>\n",
       "      <td>Computers&amp;Accessories|Accessories&amp;Peripherals|...</td>\n",
       "      <td>₹199</td>\n",
       "      <td>₹349</td>\n",
       "      <td>43%</td>\n",
       "      <td>4.0</td>\n",
       "      <td>43,994</td>\n",
       "      <td>Compatible with all Type C enabled devices, be...</td>\n",
       "      <td>AECPFYFQVRUWC3KGNLJIOREFP5LQ,AGYYVPDD7YG7FYNBX...</td>\n",
       "      <td>ArdKn,Nirbhay kumar,Sagar Viswanathan,Asp,Plac...</td>\n",
       "      <td>RGIQEG07R9HS2,R1SMWZQ86XIN8U,R2J3Y1WL29GWDE,RY...</td>\n",
       "      <td>A Good Braided Cable for Your Type C Device,Go...</td>\n",
       "      <td>I ordered this cable to connect my phone to An...</td>\n",
       "      <td>https://m.media-amazon.com/images/W/WEBP_40237...</td>\n",
       "      <td>https://www.amazon.in/Ambrane-Unbreakable-Char...</td>\n",
       "    </tr>\n",
       "    <tr>\n",
       "      <th>2</th>\n",
       "      <td>B096MSW6CT</td>\n",
       "      <td>Sounce Fast Phone Charging Cable &amp; Data Sync U...</td>\n",
       "      <td>Computers&amp;Accessories|Accessories&amp;Peripherals|...</td>\n",
       "      <td>₹199</td>\n",
       "      <td>₹1,899</td>\n",
       "      <td>90%</td>\n",
       "      <td>3.9</td>\n",
       "      <td>7,928</td>\n",
       "      <td>【 Fast Charger&amp; Data Sync】-With built-in safet...</td>\n",
       "      <td>AGU3BBQ2V2DDAMOAKGFAWDDQ6QHA,AESFLDV2PT363T2AQ...</td>\n",
       "      <td>Kunal,Himanshu,viswanath,sai niharka,saqib mal...</td>\n",
       "      <td>R3J3EQQ9TZI5ZJ,R3E7WBGK7ID0KV,RWU79XKQ6I1QF,R2...</td>\n",
       "      <td>Good speed for earlier versions,Good Product,W...</td>\n",
       "      <td>Not quite durable and sturdy,https://m.media-a...</td>\n",
       "      <td>https://m.media-amazon.com/images/W/WEBP_40237...</td>\n",
       "      <td>https://www.amazon.in/Sounce-iPhone-Charging-C...</td>\n",
       "    </tr>\n",
       "    <tr>\n",
       "      <th>3</th>\n",
       "      <td>B08HDJ86NZ</td>\n",
       "      <td>boAt Deuce USB 300 2 in 1 Type-C &amp; Micro USB S...</td>\n",
       "      <td>Computers&amp;Accessories|Accessories&amp;Peripherals|...</td>\n",
       "      <td>₹329</td>\n",
       "      <td>₹699</td>\n",
       "      <td>53%</td>\n",
       "      <td>4.2</td>\n",
       "      <td>94,363</td>\n",
       "      <td>The boAt Deuce USB 300 2 in 1 cable is compati...</td>\n",
       "      <td>AEWAZDZZJLQUYVOVGBEUKSLXHQ5A,AG5HTSFRRE6NL3M5S...</td>\n",
       "      <td>Omkar dhale,JD,HEMALATHA,Ajwadh a.,amar singh ...</td>\n",
       "      <td>R3EEUZKKK9J36I,R3HJVYCLYOY554,REDECAZ7AMPQC,R1...</td>\n",
       "      <td>Good product,Good one,Nice,Really nice product...</td>\n",
       "      <td>Good product,long wire,Charges good,Nice,I bou...</td>\n",
       "      <td>https://m.media-amazon.com/images/I/41V5FtEWPk...</td>\n",
       "      <td>https://www.amazon.in/Deuce-300-Resistant-Tang...</td>\n",
       "    </tr>\n",
       "    <tr>\n",
       "      <th>4</th>\n",
       "      <td>B08CF3B7N1</td>\n",
       "      <td>Portronics Konnect L 1.2M Fast Charging 3A 8 P...</td>\n",
       "      <td>Computers&amp;Accessories|Accessories&amp;Peripherals|...</td>\n",
       "      <td>₹154</td>\n",
       "      <td>₹399</td>\n",
       "      <td>61%</td>\n",
       "      <td>4.2</td>\n",
       "      <td>16,905</td>\n",
       "      <td>[CHARGE &amp; SYNC FUNCTION]- This cable comes wit...</td>\n",
       "      <td>AE3Q6KSUK5P75D5HFYHCRAOLODSA,AFUGIFH5ZAFXRDSZH...</td>\n",
       "      <td>rahuls6099,Swasat Borah,Ajay Wadke,Pranali,RVK...</td>\n",
       "      <td>R1BP4L2HH9TFUP,R16PVJEXKV6QZS,R2UPDB81N66T4P,R...</td>\n",
       "      <td>As good as original,Decent,Good one for second...</td>\n",
       "      <td>Bought this instead of original apple, does th...</td>\n",
       "      <td>https://m.media-amazon.com/images/W/WEBP_40237...</td>\n",
       "      <td>https://www.amazon.in/Portronics-Konnect-POR-1...</td>\n",
       "    </tr>\n",
       "  </tbody>\n",
       "</table>\n",
       "</div>"
      ],
      "text/plain": [
       "   product_id                                       product_name  \\\n",
       "0  B07JW9H4J1  Wayona Nylon Braided USB to Lightning Fast Cha...   \n",
       "1  B098NS6PVG  Ambrane Unbreakable 60W / 3A Fast Charging 1.5...   \n",
       "2  B096MSW6CT  Sounce Fast Phone Charging Cable & Data Sync U...   \n",
       "3  B08HDJ86NZ  boAt Deuce USB 300 2 in 1 Type-C & Micro USB S...   \n",
       "4  B08CF3B7N1  Portronics Konnect L 1.2M Fast Charging 3A 8 P...   \n",
       "\n",
       "                                            category discounted_price  \\\n",
       "0  Computers&Accessories|Accessories&Peripherals|...             ₹399   \n",
       "1  Computers&Accessories|Accessories&Peripherals|...             ₹199   \n",
       "2  Computers&Accessories|Accessories&Peripherals|...             ₹199   \n",
       "3  Computers&Accessories|Accessories&Peripherals|...             ₹329   \n",
       "4  Computers&Accessories|Accessories&Peripherals|...             ₹154   \n",
       "\n",
       "  actual_price discount_percentage rating rating_count  \\\n",
       "0       ₹1,099                 64%    4.2       24,269   \n",
       "1         ₹349                 43%    4.0       43,994   \n",
       "2       ₹1,899                 90%    3.9        7,928   \n",
       "3         ₹699                 53%    4.2       94,363   \n",
       "4         ₹399                 61%    4.2       16,905   \n",
       "\n",
       "                                       about_product  \\\n",
       "0  High Compatibility : Compatible With iPhone 12...   \n",
       "1  Compatible with all Type C enabled devices, be...   \n",
       "2  【 Fast Charger& Data Sync】-With built-in safet...   \n",
       "3  The boAt Deuce USB 300 2 in 1 cable is compati...   \n",
       "4  [CHARGE & SYNC FUNCTION]- This cable comes wit...   \n",
       "\n",
       "                                             user_id  \\\n",
       "0  AG3D6O4STAQKAY2UVGEUV46KN35Q,AHMY5CWJMMK5BJRBB...   \n",
       "1  AECPFYFQVRUWC3KGNLJIOREFP5LQ,AGYYVPDD7YG7FYNBX...   \n",
       "2  AGU3BBQ2V2DDAMOAKGFAWDDQ6QHA,AESFLDV2PT363T2AQ...   \n",
       "3  AEWAZDZZJLQUYVOVGBEUKSLXHQ5A,AG5HTSFRRE6NL3M5S...   \n",
       "4  AE3Q6KSUK5P75D5HFYHCRAOLODSA,AFUGIFH5ZAFXRDSZH...   \n",
       "\n",
       "                                           user_name  \\\n",
       "0  Manav,Adarsh gupta,Sundeep,S.Sayeed Ahmed,jasp...   \n",
       "1  ArdKn,Nirbhay kumar,Sagar Viswanathan,Asp,Plac...   \n",
       "2  Kunal,Himanshu,viswanath,sai niharka,saqib mal...   \n",
       "3  Omkar dhale,JD,HEMALATHA,Ajwadh a.,amar singh ...   \n",
       "4  rahuls6099,Swasat Borah,Ajay Wadke,Pranali,RVK...   \n",
       "\n",
       "                                           review_id  \\\n",
       "0  R3HXWT0LRP0NMF,R2AJM3LFTLZHFO,R6AQJGUP6P86,R1K...   \n",
       "1  RGIQEG07R9HS2,R1SMWZQ86XIN8U,R2J3Y1WL29GWDE,RY...   \n",
       "2  R3J3EQQ9TZI5ZJ,R3E7WBGK7ID0KV,RWU79XKQ6I1QF,R2...   \n",
       "3  R3EEUZKKK9J36I,R3HJVYCLYOY554,REDECAZ7AMPQC,R1...   \n",
       "4  R1BP4L2HH9TFUP,R16PVJEXKV6QZS,R2UPDB81N66T4P,R...   \n",
       "\n",
       "                                        review_title  \\\n",
       "0  Satisfied,Charging is really fast,Value for mo...   \n",
       "1  A Good Braided Cable for Your Type C Device,Go...   \n",
       "2  Good speed for earlier versions,Good Product,W...   \n",
       "3  Good product,Good one,Nice,Really nice product...   \n",
       "4  As good as original,Decent,Good one for second...   \n",
       "\n",
       "                                      review_content  \\\n",
       "0  Looks durable Charging is fine tooNo complains...   \n",
       "1  I ordered this cable to connect my phone to An...   \n",
       "2  Not quite durable and sturdy,https://m.media-a...   \n",
       "3  Good product,long wire,Charges good,Nice,I bou...   \n",
       "4  Bought this instead of original apple, does th...   \n",
       "\n",
       "                                            img_link  \\\n",
       "0  https://m.media-amazon.com/images/W/WEBP_40237...   \n",
       "1  https://m.media-amazon.com/images/W/WEBP_40237...   \n",
       "2  https://m.media-amazon.com/images/W/WEBP_40237...   \n",
       "3  https://m.media-amazon.com/images/I/41V5FtEWPk...   \n",
       "4  https://m.media-amazon.com/images/W/WEBP_40237...   \n",
       "\n",
       "                                        product_link  \n",
       "0  https://www.amazon.in/Wayona-Braided-WN3LG1-Sy...  \n",
       "1  https://www.amazon.in/Ambrane-Unbreakable-Char...  \n",
       "2  https://www.amazon.in/Sounce-iPhone-Charging-C...  \n",
       "3  https://www.amazon.in/Deuce-300-Resistant-Tang...  \n",
       "4  https://www.amazon.in/Portronics-Konnect-POR-1...  "
      ]
     },
     "execution_count": 10,
     "metadata": {},
     "output_type": "execute_result"
    }
   ],
   "source": [
    "df = pd.read_csv('../input/amazon-sales-dataset/amazon.csv')\n",
    "df.head()"
   ]
  },
  {
   "cell_type": "code",
   "execution_count": 11,
   "id": "6570b0cf-c077-4bd8-8e49-f98e11349982",
   "metadata": {},
   "outputs": [
    {
     "name": "stdout",
     "output_type": "stream",
     "text": [
      "<class 'pandas.core.frame.DataFrame'>\n",
      "RangeIndex: 1465 entries, 0 to 1464\n",
      "Data columns (total 16 columns):\n",
      " #   Column               Non-Null Count  Dtype \n",
      "---  ------               --------------  ----- \n",
      " 0   product_id           1465 non-null   object\n",
      " 1   product_name         1465 non-null   object\n",
      " 2   category             1465 non-null   object\n",
      " 3   discounted_price     1465 non-null   object\n",
      " 4   actual_price         1465 non-null   object\n",
      " 5   discount_percentage  1465 non-null   object\n",
      " 6   rating               1465 non-null   object\n",
      " 7   rating_count         1463 non-null   object\n",
      " 8   about_product        1465 non-null   object\n",
      " 9   user_id              1465 non-null   object\n",
      " 10  user_name            1465 non-null   object\n",
      " 11  review_id            1465 non-null   object\n",
      " 12  review_title         1465 non-null   object\n",
      " 13  review_content       1465 non-null   object\n",
      " 14  img_link             1465 non-null   object\n",
      " 15  product_link         1465 non-null   object\n",
      "dtypes: object(16)\n",
      "memory usage: 183.2+ KB\n"
     ]
    }
   ],
   "source": [
    "df.info()"
   ]
  },
  {
   "cell_type": "code",
   "execution_count": 13,
   "id": "2db91108-0084-4c7d-bea7-852fc4178482",
   "metadata": {},
   "outputs": [
    {
     "data": {
      "text/plain": [
       "product_id             0\n",
       "product_name           0\n",
       "category               0\n",
       "discounted_price       0\n",
       "actual_price           0\n",
       "discount_percentage    0\n",
       "rating                 0\n",
       "rating_count           2\n",
       "about_product          0\n",
       "user_id                0\n",
       "user_name              0\n",
       "review_id              0\n",
       "review_title           0\n",
       "review_content         0\n",
       "img_link               0\n",
       "product_link           0\n",
       "dtype: int64"
      ]
     },
     "execution_count": 13,
     "metadata": {},
     "output_type": "execute_result"
    }
   ],
   "source": [
    "df.isnull().sum()"
   ]
  },
  {
   "cell_type": "code",
   "execution_count": 14,
   "id": "76823995-7e72-4df2-aa59-89f96b3fbe4b",
   "metadata": {},
   "outputs": [
    {
     "data": {
      "text/html": [
       "<div>\n",
       "<style scoped>\n",
       "    .dataframe tbody tr th:only-of-type {\n",
       "        vertical-align: middle;\n",
       "    }\n",
       "\n",
       "    .dataframe tbody tr th {\n",
       "        vertical-align: top;\n",
       "    }\n",
       "\n",
       "    .dataframe thead th {\n",
       "        text-align: right;\n",
       "    }\n",
       "</style>\n",
       "<table border=\"1\" class=\"dataframe\">\n",
       "  <thead>\n",
       "    <tr style=\"text-align: right;\">\n",
       "      <th></th>\n",
       "      <th>product_id</th>\n",
       "      <th>product_name</th>\n",
       "      <th>category</th>\n",
       "      <th>discounted_price</th>\n",
       "      <th>actual_price</th>\n",
       "      <th>discount_percentage</th>\n",
       "      <th>rating</th>\n",
       "      <th>rating_count</th>\n",
       "      <th>about_product</th>\n",
       "      <th>user_id</th>\n",
       "      <th>user_name</th>\n",
       "      <th>review_id</th>\n",
       "      <th>review_title</th>\n",
       "      <th>review_content</th>\n",
       "      <th>img_link</th>\n",
       "      <th>product_link</th>\n",
       "    </tr>\n",
       "  </thead>\n",
       "  <tbody>\n",
       "    <tr>\n",
       "      <th>282</th>\n",
       "      <td>B0B94JPY2N</td>\n",
       "      <td>Amazon Brand - Solimo 65W Fast Charging Braide...</td>\n",
       "      <td>Computers&amp;Accessories|Accessories&amp;Peripherals|...</td>\n",
       "      <td>₹199</td>\n",
       "      <td>₹999</td>\n",
       "      <td>80%</td>\n",
       "      <td>3.0</td>\n",
       "      <td>NaN</td>\n",
       "      <td>USB C to C Cable: This cable has type C connec...</td>\n",
       "      <td>AE7CFHY23VAJT2FI4NZKKP6GS2UQ</td>\n",
       "      <td>Pranav</td>\n",
       "      <td>RUB7U91HVZ30</td>\n",
       "      <td>The cable works but is not 65W as advertised</td>\n",
       "      <td>I have a pd supported car charger and I bought...</td>\n",
       "      <td>https://m.media-amazon.com/images/W/WEBP_40237...</td>\n",
       "      <td>https://www.amazon.in/Amazon-Brand-Charging-Su...</td>\n",
       "    </tr>\n",
       "    <tr>\n",
       "      <th>324</th>\n",
       "      <td>B0BQRJ3C47</td>\n",
       "      <td>REDTECH USB-C to Lightning Cable 3.3FT, [Apple...</td>\n",
       "      <td>Computers&amp;Accessories|Accessories&amp;Peripherals|...</td>\n",
       "      <td>₹249</td>\n",
       "      <td>₹999</td>\n",
       "      <td>75%</td>\n",
       "      <td>5.0</td>\n",
       "      <td>NaN</td>\n",
       "      <td>💎[The Fastest Charge] - This iPhone USB C cabl...</td>\n",
       "      <td>AGJC5O5H5BBXWUV7WRIEIOOR3TVQ</td>\n",
       "      <td>Abdul Gafur</td>\n",
       "      <td>RQXD5SAMMPC6L</td>\n",
       "      <td>Awesome Product</td>\n",
       "      <td>Quick delivery.Awesome ProductPacking was good...</td>\n",
       "      <td>https://m.media-amazon.com/images/I/31-q0xhaTA...</td>\n",
       "      <td>https://www.amazon.in/REDTECH-Lightning-Certif...</td>\n",
       "    </tr>\n",
       "  </tbody>\n",
       "</table>\n",
       "</div>"
      ],
      "text/plain": [
       "     product_id                                       product_name  \\\n",
       "282  B0B94JPY2N  Amazon Brand - Solimo 65W Fast Charging Braide...   \n",
       "324  B0BQRJ3C47  REDTECH USB-C to Lightning Cable 3.3FT, [Apple...   \n",
       "\n",
       "                                              category discounted_price  \\\n",
       "282  Computers&Accessories|Accessories&Peripherals|...             ₹199   \n",
       "324  Computers&Accessories|Accessories&Peripherals|...             ₹249   \n",
       "\n",
       "    actual_price discount_percentage rating rating_count  \\\n",
       "282         ₹999                 80%    3.0          NaN   \n",
       "324         ₹999                 75%    5.0          NaN   \n",
       "\n",
       "                                         about_product  \\\n",
       "282  USB C to C Cable: This cable has type C connec...   \n",
       "324  💎[The Fastest Charge] - This iPhone USB C cabl...   \n",
       "\n",
       "                          user_id    user_name      review_id  \\\n",
       "282  AE7CFHY23VAJT2FI4NZKKP6GS2UQ       Pranav   RUB7U91HVZ30   \n",
       "324  AGJC5O5H5BBXWUV7WRIEIOOR3TVQ  Abdul Gafur  RQXD5SAMMPC6L   \n",
       "\n",
       "                                     review_title  \\\n",
       "282  The cable works but is not 65W as advertised   \n",
       "324                               Awesome Product   \n",
       "\n",
       "                                        review_content  \\\n",
       "282  I have a pd supported car charger and I bought...   \n",
       "324  Quick delivery.Awesome ProductPacking was good...   \n",
       "\n",
       "                                              img_link  \\\n",
       "282  https://m.media-amazon.com/images/W/WEBP_40237...   \n",
       "324  https://m.media-amazon.com/images/I/31-q0xhaTA...   \n",
       "\n",
       "                                          product_link  \n",
       "282  https://www.amazon.in/Amazon-Brand-Charging-Su...  \n",
       "324  https://www.amazon.in/REDTECH-Lightning-Certif...  "
      ]
     },
     "execution_count": 14,
     "metadata": {},
     "output_type": "execute_result"
    }
   ],
   "source": [
    "# rating_count에 결측값이 있는 행들만 출력\n",
    "\n",
    "df[df['rating_count'].isnull()]"
   ]
  },
  {
   "cell_type": "code",
   "execution_count": 15,
   "id": "96b7c8c0-dec0-478b-8a93-0a33889ec250",
   "metadata": {},
   "outputs": [],
   "source": [
    "df.dropna(subset=['rating_count'], inplace=True)"
   ]
  },
  {
   "cell_type": "code",
   "execution_count": 16,
   "id": "bf52088a-4d30-43e4-bf4e-f5d8456360ab",
   "metadata": {},
   "outputs": [],
   "source": [
    "# 숫자 값으로 변환\n",
    "df['discounted_price'] = df['discounted_price'].astype(str).str.replace('₹', '').str.replace(',', '').astype(float)\n",
    "df['actual_price'] = df['actual_price'].astype(str).str.replace('₹', '').str.replace(',', '').astype(float)\n",
    "df['discount_percentage'] = df['discount_percentage'].astype(str).str.replace('%','').astype(float)/100\n",
    "df['rating_count'] = df['rating_count'].astype(str).str.replace(',', '').astype(float)\n",
    "\n",
    "# rating column에서 빈 문자열이나 공백을 NaN으로 대체\n",
    "df['rating'] = df['rating'].replace('', pd.NA).str.strip()\n",
    "# rating에 유효한 숫자가 아닌 값이 있는 행 제거\n",
    "df = df.dropna(subset=['rating'])\n",
    "df = df[df['rating'].apply(lambda x: x.replace('.', '', 1).isdigit())]\n",
    "# rating column 을 float로 변환\n",
    "df['rating'] = df['rating'].astype(float)"
   ]
  },
  {
   "cell_type": "code",
   "execution_count": 17,
   "id": "40ba9931-bbc7-4efe-8f84-aa8559f06eb1",
   "metadata": {},
   "outputs": [
    {
     "data": {
      "text/plain": [
       "True"
      ]
     },
     "execution_count": 17,
     "metadata": {},
     "output_type": "execute_result"
    }
   ],
   "source": [
    "# product_id에 중복된 값이 있는지 확인\n",
    "\n",
    "df['product_id'].duplicated().any()"
   ]
  },
  {
   "cell_type": "code",
   "execution_count": 18,
   "id": "4a7722b5-e0f2-4679-883a-699655d91c49",
   "metadata": {},
   "outputs": [
    {
     "name": "stdout",
     "output_type": "stream",
     "text": [
      "0       B07JW9H4J1\n",
      "1       B098NS6PVG\n",
      "2       B096MSW6CT\n",
      "3       B08HDJ86NZ\n",
      "4       B08CF3B7N1\n",
      "           ...    \n",
      "1007    B0B9BXKBC7\n",
      "1010    B07GVGTSLN\n",
      "1017    B0B9BD2YL4\n",
      "1018    B0BMXMLSMM\n",
      "1019    B0141EZMAI\n",
      "Name: product_id, Length: 206, dtype: object\n"
     ]
    }
   ],
   "source": [
    "# product_id가 중복된 모든 행을 True로 표시, 중복된 product_id만을 출력\n",
    "duplicate_rows = df[df['product_id'].duplicated(keep=False)]\n",
    "print(duplicate_rows['product_id'] )"
   ]
  },
  {
   "cell_type": "markdown",
   "id": "ba648d6b-ea5a-47f4-b93d-f550f2790b9f",
   "metadata": {},
   "source": [
    "### 평균 평점과 리뷰 수에 따른 제품 특성 분석\n",
    "- rating과 rating_count에 따른 제품 카테고리별 특성 분석\n",
    "- 카테고리별 평균 평점과 리뷰 수를 계산"
   ]
  },
  {
   "cell_type": "code",
   "execution_count": 26,
   "id": "03347d2a-6c34-45b3-a33c-9401c6ff71de",
   "metadata": {},
   "outputs": [
    {
     "name": "stdout",
     "output_type": "stream",
     "text": [
      "                                              category    rating  rating_count\n",
      "0    Car&Motorbike|CarAccessories|InteriorAccessori...  3.800000   1118.000000\n",
      "1    Computers&Accessories|Accessories&Peripherals|...  4.150000   2983.000000\n",
      "2    Computers&Accessories|Accessories&Peripherals|...  3.500000   7222.000000\n",
      "3    Computers&Accessories|Accessories&Peripherals|...  3.600000   8886.500000\n",
      "4    Computers&Accessories|Accessories&Peripherals|...  4.050000   6273.500000\n",
      "..                                                 ...       ...           ...\n",
      "206  OfficeProducts|OfficePaperProducts|Paper|Stati...  4.250000   4210.000000\n",
      "207  OfficeProducts|OfficePaperProducts|Paper|Stati...  4.150000   4062.500000\n",
      "208  OfficeProducts|OfficePaperProducts|Paper|Stati...  4.300000   4084.500000\n",
      "209  OfficeProducts|OfficePaperProducts|Paper|Stati...  4.133333   3495.666667\n",
      "210  Toys&Games|Arts&Crafts|Drawing&PaintingSupplie...  4.300000  15867.000000\n",
      "\n",
      "[211 rows x 3 columns]\n"
     ]
    }
   ],
   "source": [
    "category_rating_summary = df.groupby('category').agg({\n",
    "    'rating': 'mean',\n",
    "    'rating_count': 'mean'\n",
    "}).reset_index()\n",
    "\n",
    "print(category_rating_summary)"
   ]
  },
  {
   "cell_type": "markdown",
   "id": "becebbd2-5ba2-4863-9b0a-1a5a3de19b16",
   "metadata": {},
   "source": [
    "**[결론]**\n",
    "- 리뷰 수(rating_count)가 많다는 것은 해당 카테고리의 제품들이 소비자들 사이에서 인기가 있거나 많이 구매되었음을 의미\n",
    "- 어떤 카테고리에서 리뷰 수가 다른 카테고리보다 훨씬 많다면 그 카테고리는 트렌드에 민감하거나 사람들이 많이 찾는 분야일 가능성이 큼\n",
    "- 평균 평점(rating)이 높다면 해당 카테고리의 제품들은 대체로 품질이 좋고 소비자 만족도가 높음, 평균이 낮다면 제품 품질 개선 필요\n",
    "- 특정 카테고리의 평균 평점이 다른 카테고리보다 유독 낮다면, 그 카테고리의 전반적인 품질 문제나 소비자 기대에 못 미치는 부분이 있음\n",
    "- 어떤 카테고리는 리뷰 수가 많으면서도 높은 평균 평점을 보일 수 있고, 반대로 리뷰 수는 적지만 평균 평점이 높은 카테고리도 있음\n",
    "- 리뷰가 많다고 무조건 평점이 높지 않을 수도 있고, 리뷰가 적지만 평점이 높은 경우는 특정 카테고리의 제품들이 만족도가 높을 수 있음\n",
    "\n",
    "#### 리뷰 수가 많은데 평균 평점이 낮다면, 해당 카테고리의 제품 품질 개선이나 소비자 피드백을 반영한 업그레이드가 필요함\n",
    "#### 반대로, 평점이 높고 리뷰 수가 많다면 그 카테고리는 마케팅이나 프로모션을 강화 해야함"
   ]
  },
  {
   "cell_type": "markdown",
   "id": "24865fda-02dc-4684-95f1-2d014f68b699",
   "metadata": {},
   "source": [
    "품질 개선이 필요한 카테고리:\n",
    "평균 평점이 상대적으로 낮은 카테고리는 품질 개선이나 소비자 피드백에 대한 대응이 필요할 수 있습니다.\n",
    "    \n",
    "인기 있는 카테고리:\n",
    "리뷰 수가 많은 카테고리는 소비자들이 자주 찾는 카테고리로, 마케팅 및 판매 전략을 집중할 수 있는 분야입니다."
   ]
  },
  {
   "cell_type": "markdown",
   "id": "baaaa2ad-feac-4972-8072-a96437a9001d",
   "metadata": {},
   "source": [
    "---"
   ]
  },
  {
   "cell_type": "markdown",
   "id": "e8d32a95-201f-45a8-82ac-abb536d495dc",
   "metadata": {},
   "source": [
    "### 가격 및 할인율과 평점의 상관관계 분석\n",
    "- actual_price, discounted_price, discount_percentage가 평점 및 리뷰 수와 어떤 상관관계가 있는지 분석"
   ]
  },
  {
   "cell_type": "code",
   "execution_count": 22,
   "id": "786159b1-83e9-4b1f-9a45-f20df024778b",
   "metadata": {},
   "outputs": [
    {
     "name": "stdout",
     "output_type": "stream",
     "text": [
      "                       rating  rating_count  discounted_price  actual_price  \\\n",
      "rating               1.000000      0.102235          0.121132      0.122467   \n",
      "rating_count         0.102235      1.000000         -0.027304     -0.036215   \n",
      "discounted_price     0.121132     -0.027304          1.000000      0.961910   \n",
      "actual_price         0.122467     -0.036215          0.961910      1.000000   \n",
      "discount_percentage -0.155679      0.011294         -0.242298     -0.117855   \n",
      "\n",
      "                     discount_percentage  \n",
      "rating                         -0.155679  \n",
      "rating_count                    0.011294  \n",
      "discounted_price               -0.242298  \n",
      "actual_price                   -0.117855  \n",
      "discount_percentage             1.000000  \n"
     ]
    }
   ],
   "source": [
    "correlation_matrix = df[['rating', 'rating_count', 'discounted_price', 'actual_price', 'discount_percentage']].corr()\n",
    "print(correlation_matrix)"
   ]
  },
  {
   "cell_type": "markdown",
   "id": "b762c753-e9e1-4c3b-bf51-341161f38346",
   "metadata": {},
   "source": [
    "가격과 평점 간의 상관관계:\n",
    "- actual_price와 rating 간의 상관계수는 0.121로, 약한 양의 상관관계가 존재함. 즉, 가격이 높을수록 평점도 약간 증가하는 경향이 있으므로 비싼 제품이 더 좋은 품질로 인식될 가능성이 있음\n",
    "\n",
    "할인율과 평점 간의 상관관계:\n",
    "- discount_percentage와 rating 간의 상관계수는 -0.155로, 약한 음의 상관관계가 있음. 할인율이 높을수록 평점이 약간 낮아지는 경향이 있으며 높은 할인율로 판매되는 제품들이 품질에 대한 의심이 있을 수 있다는 인식\n",
    "\n",
    "할인율과 리뷰 수 간의 상관관계:\n",
    "- discount_percentage와 rating_count 간의 상관계수는 0.012로, 거의 상관관계가 없음. 할인율이 높다고 해서 반드시 더 많은 리뷰가 발생하지는 않음\n",
    "\n",
    "가격 간의 상관관계:\n",
    "- actual_price와 discounted_price는 0.96으로 매우 높은 상관관계를 보임. 가격이 비싼 제품일수록 할인 후 가격도 여전히 높은 경향이 있음"
   ]
  },
  {
   "cell_type": "markdown",
   "id": "aed2233f-2168-472a-83a8-6fffea98fd58",
   "metadata": {},
   "source": [
    "**[결론]**\n",
    "1. 가격과 평점의 상관관계:\n",
    "- 만약 가격이 높을수록 평점이 높아지는 경향이 나타난다면, 이는 소비자들이 더 비싼 제품을 고품질로 인식하고 높은 가격을 지불할 가치가 있다고 생각\n",
    "- 가격이 높을수록 평점이 낮아지는 경우, 소비자들이 가격 대비 제품 품질에 불만을 갖고 있음. 이 경우, 비싼 제품의 가치가 충분하지 않다고 인식\n",
    "- 가격이 평점에 별다른 영향을 미치지 않는다면, 소비자들은 가격에 관계없이 제품의 고유 품질에 따라 평점을 매길 가능성이 큼\n",
    "2. 할인율과 평점의 상관관계:\n",
    "- 할인율이 높을수록 평점이 높아진다면, 할인된 가격으로 제품을 구매한 소비자들이 만족감을 느끼고 긍정적인 피드백을 남김. 이는 높은 할인율이 소비자 만족도를 높이고 긍정적인 평가로 이어질 가능성이 있음\n",
    "- 할인율이 높을수록 평점이 낮아지는 경향이 있다면, 높은 할인율로 인해 소비자들이 제품의 품질에 대한 기대치를 낮추거나, 재고 처리를 위해 할인된 저품질 제품일 수 있음\n",
    "- 할인율이 평점에 큰 영향을 미치지 않는다면, 소비자들이 가격보다는 제품의 본질적인 품질에 따라 평가하고 있음\n",
    "3. 가격과 할인율의 상관관계 분석을 통해 얻는 추가 인사이트:\n",
    "- 할인율이 높고 가격이 낮은 제품이 좋은 평점을 받는다면, 저렴한 제품을 선호하는 소비층이 형성되어 있음\n",
    "- 비싼 제품이 높은 할인율을 제공하면서도 평점이 높다면, 이러한 가격 할인 전략이 성공적으로 소비자의 만족을 이끌어냈다는 것을 보여줌\n",
    "\n",
    "#### 결과적으로, 이 상관관계 분석은 가격 전략과 할인 전략이 소비자 만족도에 어떤 영향을 미치는지 파악\n",
    "#### => 마케팅 전략, 가격 책정, 제품 품질 개선에 도움"
   ]
  },
  {
   "cell_type": "markdown",
   "id": "746fca31-0113-465b-a39b-7742fcc3216d",
   "metadata": {},
   "source": [
    "---"
   ]
  },
  {
   "cell_type": "markdown",
   "id": "1792e0be-f130-49c5-a4f4-d72ef73d7db5",
   "metadata": {},
   "source": [
    "### 할인율과 리뷰 수 간 상관관계 분석\n",
    "- 높은 할인율이 더 많은 리뷰를 끌어내는지 분석\n",
    "- discount_percentage와 rating_count 간의 상관관계 시각화"
   ]
  },
  {
   "cell_type": "code",
   "execution_count": 23,
   "id": "20ea6c21-09cb-4a87-b664-18df40ac3a83",
   "metadata": {},
   "outputs": [
    {
     "data": {
      "image/png": "[encoded data removed]",
      "text/plain": [
       "<Figure size 640x480 with 1 Axes>"
      ]
     },
     "metadata": {},
     "output_type": "display_data"
    }
   ],
   "source": [
    "plt.scatter(df['discount_percentage'], df['rating_count'])\n",
    "plt.title('Discount Percentage vs Rating Count')\n",
    "plt.xlabel('Discount Percentage')\n",
    "plt.ylabel('Rating Count')\n",
    "plt.show()"
   ]
  },
  {
   "cell_type": "code",
   "execution_count": null,
   "id": "3d650d2c-d86b-4c00-8dd8-bb0a2dd0a816",
   "metadata": {},
   "outputs": [],
   "source": [
    "- discount_percentage와 rating_count 간의 상관계수는 0.012로 매우 약한 양의 상관관계를 보임. 즉, 할인율과 리뷰 수는 거의 연관성이 없음\n",
    "- 할인율이 높아진다고 해서 소비자들이 더 많은 리뷰를 남기지는 않는다는 것 같음. \n",
    "- 할인율이 제품의 리뷰 수에 직접적인 영향을 미치지 않는 경우가 많음.\n",
    "- 할인율이 소비자 리뷰에 크게 영향을 미치지 않는다는 것은 소비자들이 단순히 할인만 보고 제품을 구매하거나 리뷰를 남기지 않는다는 것을 의미\n",
    "- 제품의 품질이나 기능이 할인율보다 더 중요한 것 같음\n",
    "- 높은 할인율이 필연적으로 더 많은 리뷰나 긍정적인 소비자 피드백을 유도하지 않는다는 점에서 단순한 가격 할인보다는 품질 개선, 사용자 경험, 제품의 실제 가치에 초점을 맞춘 마케팅 전략이 필요함\n",
    "- 할인율을 지나치게 높여도 리뷰 수나 평점이 오르지 않을 수 있으므로 적정 할인율을 설정하여 브랜드 이미지나 수익성을 유지하는 것이 중요"
   ]
  },
  {
   "cell_type": "markdown",
   "id": "016e4520-c2e3-4b88-a6a2-772be8adfcb9",
   "metadata": {},
   "source": [
    "**[결론]**\n",
    "- 할인율과 리뷰 수 간의 상관관계는 약하므로 할인율만으로 리뷰를 늘리기 위한 전략은 효과가 제한적일 수 있음\n",
    "- 제품 품질과 사용자 경험을 개선하는 것이 더 효과적인 전략일 것 같음"
   ]
  },
  {
   "cell_type": "markdown",
   "id": "0a358bd4-208f-47ac-99a0-98aa33f3236f",
   "metadata": {},
   "source": [
    "---"
   ]
  },
  {
   "cell_type": "markdown",
   "id": "bea047b6-e3a8-4208-ba25-9b1c2dfa8ab3",
   "metadata": {},
   "source": [
    "### 가격 대비 평점 비교\n",
    "- 제품의 실제 가격(actual_price)과 평점(rating) 간의 관계를 분석해, 가격 대비 평점이 높은 제품을 파악"
   ]
  },
  {
   "cell_type": "code",
   "execution_count": 24,
   "id": "4328aec2-3ffd-4d75-8568-04ef87bb1e22",
   "metadata": {},
   "outputs": [
    {
     "data": {
      "image/png": "[encoded data removed]",
      "text/plain": [
       "<Figure size 640x480 with 1 Axes>"
      ]
     },
     "metadata": {},
     "output_type": "display_data"
    }
   ],
   "source": [
    "plt.scatter(df['actual_price'], df['rating'])\n",
    "plt.title('Actual Price vs Rating')\n",
    "plt.xlabel('Actual Price')\n",
    "plt.ylabel('Rating')\n",
    "plt.show()"
   ]
  },
  {
   "cell_type": "markdown",
   "id": "6e942ea3-559b-449c-9aa3-b2e56653b675",
   "metadata": {},
   "source": [
    "**[결론]**\n",
    "- 적절한 가격 전략 필요"
   ]
  },
  {
   "cell_type": "code",
   "execution_count": null,
   "id": "0099a880-5f43-46eb-92d1-71e5a83d0a7d",
   "metadata": {},
   "outputs": [],
   "source": []
  }
 ],
 "metadata": {
  "kernelspec": {
   "display_name": "Python 3 (ipykernel)",
   "language": "python",
   "name": "python3"
  },
  "language_info": {
   "codemirror_mode": {
    "name": "ipython",
    "version": 3
   },
   "file_extension": ".py",
   "mimetype": "text/x-python",
   "name": "python",
   "nbconvert_exporter": "python",
   "pygments_lexer": "ipython3",
   "version": "3.8.19"
  }
 },
 "nbformat": 4,
 "nbformat_minor": 5
}
